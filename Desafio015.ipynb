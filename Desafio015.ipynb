{
  "nbformat": 4,
  "nbformat_minor": 0,
  "metadata": {
    "colab": {
      "name": "Desafio015.ipynb",
      "provenance": [],
      "authorship_tag": "ABX9TyNPcNSSMoqQEXMCBXKNZgwb",
      "include_colab_link": true
    },
    "kernelspec": {
      "name": "python3",
      "display_name": "Python 3"
    },
    "language_info": {
      "name": "python"
    }
  },
  "cells": [
    {
      "cell_type": "markdown",
      "metadata": {
        "id": "view-in-github",
        "colab_type": "text"
      },
      "source": [
        "<a href=\"https://colab.research.google.com/github/diegowalhernandes/exercicios-python/blob/main/Desafio015.ipynb\" target=\"_parent\"><img src=\"https://colab.research.google.com/assets/colab-badge.svg\" alt=\"Open In Colab\"/></a>"
      ]
    },
    {
      "cell_type": "code",
      "metadata": {
        "colab": {
          "base_uri": "https://localhost:8080/"
        },
        "id": "249wrhR2iMdQ",
        "outputId": "f403f941-dc9c-40cc-9b13-6d3d5a5831db"
      },
      "source": [
        "print('''===Desafio 015===\n",
        "Escreva um programa que pergunte a quantidade\n",
        "de Km percorridos por um carro alugado\n",
        "e a quantidade de dias pelos quais ele foi alugado.\n",
        "Calcule o preço a pagar, \n",
        "sabendo que o carro custa R$60 por dia\n",
        "e R$0,15 por Km rodado''')\n",
        "print('=-'*15)\n",
        "dias = int(input('Quantos dias alugado? '))\n",
        "km = float(input('Quantos Km rodados? '))\n",
        "total = (dias * 60) + (km * 0.15)\n",
        "print(f'O total a pagar é de R${total:.2f}')\n"
      ],
      "execution_count": 3,
      "outputs": [
        {
          "output_type": "stream",
          "name": "stdout",
          "text": [
            "===Desafio 015===\n",
            "Escreva um programa que pergunte a quantidade\n",
            "de Km percorridos por um carro alugado\n",
            "e a quantidade de dias pelos quais ele foi alugado.\n",
            "Calcule o preço a pagar, \n",
            "sabendo que o carro custa R$60 por dia\n",
            "e R$0,15 por Km rodado\n",
            "=-=-=-=-=-=-=-=-=-=-=-=-=-=-=-\n",
            "Quantos dias alugado? 8\n",
            "Quantos Km rodados? 720\n",
            "O total a pagar é de R$588.00\n"
          ]
        }
      ]
    }
  ]
}