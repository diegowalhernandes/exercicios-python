{
  "nbformat": 4,
  "nbformat_minor": 0,
  "metadata": {
    "colab": {
      "name": "Desafio05.ipynb",
      "provenance": [],
      "authorship_tag": "ABX9TyOc7a1M8EZGF7eBFpQ9BAju",
      "include_colab_link": true
    },
    "kernelspec": {
      "name": "python3",
      "display_name": "Python 3"
    },
    "language_info": {
      "name": "python"
    }
  },
  "cells": [
    {
      "cell_type": "markdown",
      "metadata": {
        "id": "view-in-github",
        "colab_type": "text"
      },
      "source": [
        "<a href=\"https://colab.research.google.com/github/diegowalhernandes/exercicios-python/blob/main/Desafio05.ipynb\" target=\"_parent\"><img src=\"https://colab.research.google.com/assets/colab-badge.svg\" alt=\"Open In Colab\"/></a>"
      ]
    },
    {
      "cell_type": "code",
      "metadata": {
        "colab": {
          "base_uri": "https://localhost:8080/"
        },
        "id": "WALDmgmS8pZf",
        "outputId": "00fec855-53b2-4599-efe5-c01aaa715f89"
      },
      "source": [
        "print('===Desafio 005===')\n",
        "\n",
        "print('''Faça um programa que leia um \n",
        "numero inteiro e mostre na tela\n",
        "o seu sucessor e seu antecessor''')\n",
        "print(\"=\"*20)\n",
        "\n",
        "n = int(input('Digite um número: '))\n",
        "suc = n + 1\n",
        "ant = n - 1\n",
        "\n",
        "print(f'O número escolhido foi {n}, seu sucessor é {suc}, e seu antecessor é  {ant}.')\n"
      ],
      "execution_count": 9,
      "outputs": [
        {
          "output_type": "stream",
          "name": "stdout",
          "text": [
            "===Desafio 005===\n",
            "Faça um programa que leia um \n",
            "numero inteiro e mostre na tela\n",
            "o seu sucessor e seu antecessor\n",
            "====================\n",
            "Digite um número: 9\n",
            "O número escolhido foi 9, seu sucessor é 10, e seu antecessor é  8.\n"
          ]
        }
      ]
    }
  ]
}
