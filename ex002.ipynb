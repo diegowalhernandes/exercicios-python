{
 "cells": [
  {
   "cell_type": "markdown",
   "metadata": {},
   "source": [
    "#### 2. Cálculo de bônus com uma nova regra\n",
    "##### A meta é 1000 vendas<br>\n",
    "\n",
    "- Se vendas funcionário for maior ou igual a 2000, então o bônus é de 15% sobre o valor de vendas\n",
    "- Se vendas funcionário for menor do que 2000 e maior ou igual a 1000, então o bônus é de 10% sobre o valor de vendas\n",
    "- Se vendas funcionário for menos do que 1000 então o bônus do funcionário é de 0.\n"
   ]
  },
  {
   "cell_type": "code",
   "execution_count": 11,
   "metadata": {},
   "outputs": [],
   "source": [
    "vendas_funcionario1 = 1000\n",
    "vendas_funcionario2 = 800\n",
    "vendas_funcionario3 = 2700"
   ]
  },
  {
   "cell_type": "code",
   "execution_count": 12,
   "metadata": {},
   "outputs": [
    {
     "name": "stdout",
     "output_type": "stream",
     "text": [
      "O funcionario 1 ira receber 150.0 de bonus\n",
      "O funcionario 2 ira receber 0 de bonus\n",
      "O funcionario 3 ira receber 540.0 de bonus\n"
     ]
    }
   ],
   "source": [
    "if vendas_funcionario1 >= 2000:\n",
    "    bonus = vendas_funcionario1 * 0.20\n",
    "elif vendas_funcionario1 >= 1000:\n",
    "    bonus = vendas_funcionario1 * 0.15\n",
    "else:\n",
    "    bonus = 0\n",
    "print(f\"O funcionario 1 ira receber {bonus} de bonus\")\n",
    "\n",
    "if vendas_funcionario2 >= 2000:\n",
    "    bonus = vendas_funcionario2 * 0.20\n",
    "elif vendas_funcionario2 >= 1000:\n",
    "    bonus = vendas_funcionario2 * 0.15\n",
    "else:\n",
    "    bonus = 0\n",
    "print(f\"O funcionario 2 ira receber {bonus} de bonus\")\n",
    "\n",
    "if vendas_funcionario3 >= 2000:\n",
    "    bonus = vendas_funcionario3 * 0.20\n",
    "elif vendas_funcionario3 >= 1000:\n",
    "    bonus = vendas_funcionario3 * 0.15\n",
    "else:\n",
    "    bonus = 0\n",
    "print(f\"O funcionario 3 ira receber {bonus} de bonus\")\n"
   ]
  }
 ],
 "metadata": {
  "kernelspec": {
   "display_name": "Python 3",
   "language": "python",
   "name": "python3"
  },
  "language_info": {
   "codemirror_mode": {
    "name": "ipython",
    "version": 3
   },
   "file_extension": ".py",
   "mimetype": "text/x-python",
   "name": "python",
   "nbconvert_exporter": "python",
   "pygments_lexer": "ipython3",
   "version": "3.12.0"
  }
 },
 "nbformat": 4,
 "nbformat_minor": 2
}
