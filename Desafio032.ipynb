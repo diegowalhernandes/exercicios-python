{
  "nbformat": 4,
  "nbformat_minor": 0,
  "metadata": {
    "colab": {
      "name": "Desafio032.ipynb",
      "provenance": [],
      "authorship_tag": "ABX9TyMAvNcneGOOMkzOexvyhEhm",
      "include_colab_link": true
    },
    "kernelspec": {
      "name": "python3",
      "display_name": "Python 3"
    },
    "language_info": {
      "name": "python"
    }
  },
  "cells": [
    {
      "cell_type": "markdown",
      "metadata": {
        "id": "view-in-github",
        "colab_type": "text"
      },
      "source": [
        "<a href=\"https://colab.research.google.com/github/diegowalhernandes/exercicios-python/blob/main/Desafio032.ipynb\" target=\"_parent\"><img src=\"https://colab.research.google.com/assets/colab-badge.svg\" alt=\"Open In Colab\"/></a>"
      ]
    },
    {
      "cell_type": "code",
      "execution_count": 9,
      "metadata": {
        "colab": {
          "base_uri": "https://localhost:8080/"
        },
        "id": "HNQZP6ndrrVJ",
        "outputId": "1f55a236-f14d-46e9-b8ad-fe6a41546f58"
      },
      "outputs": [
        {
          "output_type": "stream",
          "name": "stdout",
          "text": [
            "Que ano quer analisar? Coloque 0 para analisar o ano atual: 2021\n",
            "O ano 2021 NÃO é BISSEXTO\n"
          ]
        }
      ],
      "source": [
        "'''Desafio032\n",
        "Faça um programa que leia um ano qualquer\n",
        "e mostre se ele é BISSEXTO.'''\n",
        "\n",
        "from datetime import date\n",
        "ano = int(input('Que ano quer analisar? Coloque 0 para analisar o ano atual: '))\n",
        "if ano == 0:\n",
        "  ano = date.today().year\n",
        "if ano % 4 == 0 and ano % 100 != 0 or ano % 400 == 0:\n",
        "  print(f'O ano {ano} é BISSEXTO')\n",
        "else:\n",
        "  print(f'O ano {ano} NÃO é BISSEXTO')"
      ]
    }
  ]
}