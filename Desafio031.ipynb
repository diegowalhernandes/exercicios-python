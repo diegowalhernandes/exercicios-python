{
  "nbformat": 4,
  "nbformat_minor": 0,
  "metadata": {
    "colab": {
      "name": "Desafio031.ipynb",
      "provenance": [],
      "authorship_tag": "ABX9TyN1k3ctQm2ZNWs7clyNEMJu",
      "include_colab_link": true
    },
    "kernelspec": {
      "name": "python3",
      "display_name": "Python 3"
    },
    "language_info": {
      "name": "python"
    }
  },
  "cells": [
    {
      "cell_type": "markdown",
      "metadata": {
        "id": "view-in-github",
        "colab_type": "text"
      },
      "source": [
        "<a href=\"https://colab.research.google.com/github/diegowalhernandes/exercicios-python/blob/main/Desafio031.ipynb\" target=\"_parent\"><img src=\"https://colab.research.google.com/assets/colab-badge.svg\" alt=\"Open In Colab\"/></a>"
      ]
    },
    {
      "cell_type": "code",
      "execution_count": 14,
      "metadata": {
        "colab": {
          "base_uri": "https://localhost:8080/"
        },
        "id": "o7Lb6mUjXk8w",
        "outputId": "7abf9ae1-aa9e-47fc-9ef5-0d35c10be021"
      },
      "outputs": [
        {
          "output_type": "stream",
          "name": "stdout",
          "text": [
            "Qual a distância da viagem? 1000\n",
            "Sua passagem será de R$450.00\n"
          ]
        }
      ],
      "source": [
        "'''Custo da Viagem\n",
        "Desenvolva um programa que pergunte a distância de uma\n",
        "viagem em Km. Calcule o preço da passagem, cobrando R$0,50 por KM\n",
        "para viagens de até 200Km e R$0,45 para viagens mais longas.'''\n",
        "\n",
        "viagem = float(input('Qual a distância da viagem? '))\n",
        "if viagem <= 200:\n",
        "  preco = viagem * 0.50\n",
        "  print(f'Sua passagem será de R${preco:.2f}')\n",
        "else:\n",
        "  preco = viagem * 0.45\n",
        "  print(f'Sua passagem será de R${preco:.2f}')\n",
        "\n"
      ]
    }
  ]
}