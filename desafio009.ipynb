{
  "nbformat": 4,
  "nbformat_minor": 0,
  "metadata": {
    "colab": {
      "name": "desafio009.ipynb",
      "provenance": [],
      "authorship_tag": "ABX9TyPFIUqnirc8qaWSz/vu8XHE",
      "include_colab_link": true
    },
    "kernelspec": {
      "name": "python3",
      "display_name": "Python 3"
    },
    "language_info": {
      "name": "python"
    }
  },
  "cells": [
    {
      "cell_type": "markdown",
      "metadata": {
        "id": "view-in-github",
        "colab_type": "text"
      },
      "source": [
        "<a href=\"https://colab.research.google.com/github/diegowalhernandes/exercicios-python/blob/main/desafio009.ipynb\" target=\"_parent\"><img src=\"https://colab.research.google.com/assets/colab-badge.svg\" alt=\"Open In Colab\"/></a>"
      ]
    },
    {
      "cell_type": "code",
      "metadata": {
        "colab": {
          "base_uri": "https://localhost:8080/"
        },
        "id": "fkjgvP4nu-as",
        "outputId": "fb68a871-5d5e-42c9-9919-4026bbdcee3b"
      },
      "source": [
        "print('===Desafio 009===')\n",
        "print('''Crie um programa que leia um número inteiro qulquer na tela\n",
        "e leia a sua tabuada.''')\n",
        "print('='*20)\n",
        "\n",
        "n = int(input(\"Digite um número para ver sua tabuada: \"))\n",
        "print(f' 1 X {n} = {1*n}')\n",
        "print(f' 2 X {n} = {2*n}')\n",
        "print(f' 3 X {n} = {3*n}')\n",
        "print(f' 4 X {n} = {4*n}')\n",
        "print(f' 5 X {n} = {5*n}')\n",
        "print(f' 6 X {n} = {6*n}')\n",
        "print(f' 7 X {n} = {7*n}')\n",
        "print(f' 8 X {n} = {8*n}')\n",
        "print(f' 9 X {n} = {9*n}')\n",
        "print(f'10 X {n} = {10*n}')"
      ],
      "execution_count": 11,
      "outputs": [
        {
          "output_type": "stream",
          "name": "stdout",
          "text": [
            "===Desafio 009===\n",
            "Crie um programa que leia um número inteiro qulquer na tela\n",
            "e leia a sua tabuada.\n",
            "====================\n",
            "Digite um número para ver sua tabuada: 4\n",
            " 1 X 4 = 4\n",
            " 2 X 4 = 8\n",
            " 3 X 4 = 12\n",
            " 4 X 4 = 16\n",
            " 5 X 4 = 20\n",
            " 6 X 4 = 24\n",
            " 7 X 4 = 28\n",
            " 8 X 4 = 32\n",
            " 9 X 4 = 36\n",
            "10 X 4 = 40\n"
          ]
        }
      ]
    }
  ]
}