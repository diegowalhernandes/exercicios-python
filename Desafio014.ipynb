{
  "nbformat": 4,
  "nbformat_minor": 0,
  "metadata": {
    "colab": {
      "name": "Desafio014.ipynb",
      "provenance": [],
      "authorship_tag": "ABX9TyNIeNFC6OSJaIJ5+/nQywgC",
      "include_colab_link": true
    },
    "kernelspec": {
      "name": "python3",
      "display_name": "Python 3"
    },
    "language_info": {
      "name": "python"
    }
  },
  "cells": [
    {
      "cell_type": "markdown",
      "metadata": {
        "id": "view-in-github",
        "colab_type": "text"
      },
      "source": [
        "<a href=\"https://colab.research.google.com/github/diegowalhernandes/exercicios-python/blob/main/Desafio014.ipynb\" target=\"_parent\"><img src=\"https://colab.research.google.com/assets/colab-badge.svg\" alt=\"Open In Colab\"/></a>"
      ]
    },
    {
      "cell_type": "code",
      "metadata": {
        "colab": {
          "base_uri": "https://localhost:8080/"
        },
        "id": "n1AQhNweBski",
        "outputId": "2d4200e7-c832-4e29-9a7c-0623742016bc"
      },
      "source": [
        "print('''===Desafio 014===\n",
        "Escreva um programa que converta uma temperatura\n",
        "digitando em °C e converta para °F''')\n",
        "\n",
        "c = float(input('Informe a temperatura em °C: '))\n",
        "f = ((9 * c) / 5) + 32\n",
        "print(f'A temperatura de {c}°C corresponde a {f}°F!, ')\n",
        "\n"
      ],
      "execution_count": null,
      "outputs": [
        {
          "output_type": "stream",
          "name": "stdout",
          "text": [
            "===Desafio 014===\n",
            "Escreva um programa que converta uma temperatura\n",
            "digitando em °C e converta para °F\n",
            "Informe a temperatura em °C: 45\n",
            "A temperatura de 45.0°C corresponde a 113.0°F!, \n"
          ]
        }
      ]
    }
  ]
}
