{
  "nbformat": 4,
  "nbformat_minor": 0,
  "metadata": {
    "colab": {
      "name": "Tabuada v3.ipynb",
      "provenance": [],
      "authorship_tag": "ABX9TyNbWq7ksK1K7Fch6hQbnLnJ",
      "include_colab_link": true
    },
    "kernelspec": {
      "name": "python3",
      "display_name": "Python 3"
    }
  },
  "cells": [
    {
      "cell_type": "markdown",
      "metadata": {
        "id": "view-in-github",
        "colab_type": "text"
      },
      "source": [
        "<a href=\"https://colab.research.google.com/github/diegowalhernandes/exercicios-python/blob/main/Tabuada_v3.ipynb\" target=\"_parent\"><img src=\"https://colab.research.google.com/assets/colab-badge.svg\" alt=\"Open In Colab\"/></a>"
      ]
    },
    {
      "cell_type": "code",
      "metadata": {
        "colab": {
          "base_uri": "https://localhost:8080/"
        },
        "id": "FT4a0GYozqGl",
        "outputId": "8289db24-fc3a-422e-f7aa-bb217bc56038"
      },
      "source": [
        "while True:\r\n",
        "  num = int (input('Quer ver a tabuada de qual número? '))\r\n",
        "  print('-'*30)\r\n",
        "  if num < 0:\r\n",
        "    break\r\n",
        "  for cont in range(1, 11):\r\n",
        "    print(f'{num} x {cont} = {num * cont}')\r\n",
        "  print('-'*30)\r\n",
        "  \r\n",
        "print('Fim')\r\n",
        "\r\n"
      ],
      "execution_count": 30,
      "outputs": [
        {
          "output_type": "stream",
          "text": [
            "Quer ver a tabuada de qual número? 4\n",
            "------------------------------\n",
            "4 x 1 = 4\n",
            "4 x 2 = 8\n",
            "4 x 3 = 12\n",
            "4 x 4 = 16\n",
            "4 x 5 = 20\n",
            "4 x 6 = 24\n",
            "4 x 7 = 28\n",
            "4 x 8 = 32\n",
            "4 x 9 = 36\n",
            "4 x 10 = 40\n",
            "------------------------------\n",
            "Quer ver a tabuada de qual número? 5\n",
            "------------------------------\n",
            "5 x 1 = 5\n",
            "5 x 2 = 10\n",
            "5 x 3 = 15\n",
            "5 x 4 = 20\n",
            "5 x 5 = 25\n",
            "5 x 6 = 30\n",
            "5 x 7 = 35\n",
            "5 x 8 = 40\n",
            "5 x 9 = 45\n",
            "5 x 10 = 50\n",
            "------------------------------\n",
            "Quer ver a tabuada de qual número? -6\n",
            "------------------------------\n",
            "Fim\n"
          ],
          "name": "stdout"
        }
      ]
    }
  ]
}