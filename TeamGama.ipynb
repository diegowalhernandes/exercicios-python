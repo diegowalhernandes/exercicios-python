{
  "nbformat": 4,
  "nbformat_minor": 0,
  "metadata": {
    "colab": {
      "name": "TeamGama.ipynb",
      "provenance": [],
      "authorship_tag": "ABX9TyOotGSGCs7BxOgAN6w0fOyy",
      "include_colab_link": true
    },
    "kernelspec": {
      "name": "python3",
      "display_name": "Python 3"
    },
    "language_info": {
      "name": "python"
    }
  },
  "cells": [
    {
      "cell_type": "markdown",
      "metadata": {
        "id": "view-in-github",
        "colab_type": "text"
      },
      "source": [
        "<a href=\"https://colab.research.google.com/github/diegowalhernandes/exercicios-python/blob/main/TeamGama.ipynb\" target=\"_parent\"><img src=\"https://colab.research.google.com/assets/colab-badge.svg\" alt=\"Open In Colab\"/></a>"
      ]
    },
    {
      "cell_type": "code",
      "metadata": {
        "id": "Scb-7QaUlfZz"
      },
      "source": [
        "room = [\"a\", \"b\", \"c\", \"d\"]"
      ],
      "execution_count": null,
      "outputs": []
    },
    {
      "cell_type": "code",
      "metadata": {
        "colab": {
          "base_uri": "https://localhost:8080/"
        },
        "id": "mZLCqJMpYz0B",
        "outputId": "e5a18d69-2725-443f-924e-e9a5fdc72ce5"
      },
      "source": [
        "\n",
        "quartovazio = [room]\n",
        "quartoocupado = [room]\n",
        "\n",
        "\n",
        "while len(room)!=0:\n",
        "\n",
        "  print(\"============================\")\n",
        "  print(\"======Pousada Gama==========\")\n",
        "  print(\"============================\")\n",
        "\n",
        "  cliente = input(str(\"Cliente: \"))\n",
        "  quarto = input(str(\"Quarto: \"))\n",
        "  if quarto in room:\n",
        "    room.remove(quarto)\n",
        "    print(\"Cliente \" + cliente + \" reservou o quarto \" + quarto)\n",
        "  else: \n",
        "    print(\"Quarto indisponivel\")\n",
        "    print(\"segue a lista de quartos disponiveis \")\n",
        "    print(room)\n",
        "\n"
      ],
      "execution_count": null,
      "outputs": [
        {
          "output_type": "stream",
          "name": "stdout",
          "text": [
            "============================\n",
            "======Pousada Gama==========\n",
            "============================\n",
            "Cliente: Matheus\n",
            "Quarto: a\n",
            "Cliente Matheus reservou o quarto a\n",
            "============================\n",
            "======Pousada Gama==========\n",
            "============================\n",
            "Cliente: sara\n",
            "Quarto: b\n",
            "Cliente sara reservou o quarto b\n",
            "============================\n",
            "======Pousada Gama==========\n",
            "============================\n",
            "Cliente: ana\n",
            "Quarto: c\n",
            "Cliente ana reservou o quarto c\n",
            "============================\n",
            "======Pousada Gama==========\n",
            "============================\n",
            "Cliente: pedro\n",
            "Quarto: d\n",
            "Cliente pedro reservou o quarto d\n"
          ]
        }
      ]
    },
    {
      "cell_type": "code",
      "metadata": {
        "id": "Dins8ejVmTxY"
      },
      "source": [
        "print(room)"
      ],
      "execution_count": null,
      "outputs": []
    },
    {
      "cell_type": "code",
      "metadata": {
        "colab": {
          "base_uri": "https://localhost:8080/",
          "height": 163
        },
        "id": "BLoUHzC4koYF",
        "outputId": "d2558f9f-5a31-4650-967a-99954aac8a30"
      },
      "source": [
        "dir(room)"
      ],
      "execution_count": null,
      "outputs": [
        {
          "output_type": "error",
          "ename": "NameError",
          "evalue": "ignored",
          "traceback": [
            "\u001b[0;31m---------------------------------------------------------------------------\u001b[0m",
            "\u001b[0;31mNameError\u001b[0m                                 Traceback (most recent call last)",
            "\u001b[0;32m<ipython-input-25-da0b42283d4e>\u001b[0m in \u001b[0;36m<module>\u001b[0;34m()\u001b[0m\n\u001b[0;32m----> 1\u001b[0;31m \u001b[0mhelp\u001b[0m\u001b[0;34m(\u001b[0m\u001b[0mremove\u001b[0m\u001b[0;34m)\u001b[0m\u001b[0;34m\u001b[0m\u001b[0;34m\u001b[0m\u001b[0m\n\u001b[0m",
            "\u001b[0;31mNameError\u001b[0m: name 'remove' is not defined"
          ]
        }
      ]
    },
    {
      "cell_type": "markdown",
      "metadata": {
        "id": "_I5DR--xgVW7"
      },
      "source": [
        "Dia 15 de outubro trabalhando a documentação\n",
        "\n",
        "Formulando as var\n",
        "Variaveis\n",
        "clientes = \n",
        "quarto-vazio\n",
        "quarto-ocupado\n",
        "check-in\n",
        "check-out\n",
        "\n",
        "Quando o cliente\n",
        "\n"
      ]
    },
    {
      "cell_type": "code",
      "metadata": {
        "colab": {
          "base_uri": "https://localhost:8080/"
        },
        "id": "7mDeCjkEdgPh",
        "outputId": "278080f3-0db3-4f17-c16d-af84875cefe9"
      },
      "source": [
        "room\n"
      ],
      "execution_count": null,
      "outputs": [
        {
          "output_type": "execute_result",
          "data": {
            "text/plain": [
              "['b', 'c', 'd', 'e']"
            ]
          },
          "metadata": {},
          "execution_count": 15
        }
      ]
    }
  ]
}