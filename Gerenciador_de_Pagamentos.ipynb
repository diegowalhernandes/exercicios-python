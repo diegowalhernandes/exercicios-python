{
  "nbformat": 4,
  "nbformat_minor": 0,
  "metadata": {
    "colab": {
      "name": "Gerenciador de Pagamentos.ipynb",
      "provenance": [],
      "authorship_tag": "ABX9TyPild4Cnuy2/J53ECtFX0Bq",
      "include_colab_link": true
    },
    "kernelspec": {
      "name": "python3",
      "display_name": "Python 3"
    }
  },
  "cells": [
    {
      "cell_type": "markdown",
      "metadata": {
        "id": "view-in-github",
        "colab_type": "text"
      },
      "source": [
        "<a href=\"https://colab.research.google.com/github/diegowalhernandes/exercicios-python/blob/main/Gerenciador_de_Pagamentos.ipynb\" target=\"_parent\"><img src=\"https://colab.research.google.com/assets/colab-badge.svg\" alt=\"Open In Colab\"/></a>"
      ]
    },
    {
      "cell_type": "code",
      "metadata": {
        "colab": {
          "base_uri": "https://localhost:8080/"
        },
        "id": "8ikLt4kUn6PZ",
        "outputId": "b6d237a4-6e30-4872-af7a-1ed845c1ce5d"
      },
      "source": [
        "print('{:=^40}'.format(' Lojas Guara '))\r\n",
        "preco = float (input('Qual o preço das compras R$ '))\r\n",
        "print('''FORMAS DE PAGAMENTO\r\n",
        "[1] à vista em dinheiro\r\n",
        "[2] à vista no cartão\r\n",
        "[3] 2x no cartão\r\n",
        "[4] 3x ou mais no cartão''')\r\n",
        "opcao = int (input('Qual é a opçao: ' ))\r\n",
        "if opcao == 1:\r\n",
        "  total = preco - (preco * 10 / 100)\r\n",
        "  print('Sua compra de R${:.2f} vai custar R${:.2f} com 10% de desconto'.format(preco, total))\r\n",
        "elif opcao == 2:\r\n",
        "  total = preco - (preco * 5 / 100)\r\n",
        "  print('Sua compra de R${:.2f} vai custar R${:.2f} com 5% de desconto'.format(preco, total))\r\n",
        "elif opcao == 3:\r\n",
        "  parcela = preco / 2\r\n",
        "  print('Sua compra foi R${:.2f} e fica em 2x de {:.2f} SEM JUROS'.format(preco, parcela))\r\n",
        "elif opcao == 4:\r\n",
        "  total = preco + (preco * 20 / 100)\r\n",
        "  totpar = int (input('Qual o total de parcelas? '))\r\n",
        "  parcela = total / totpar\r\n",
        "  print('Sua compra será parcelada em {}x de R${:.2f}. COM JUROs'.format(totpar, parcela))\r\n",
        "else:\r\n",
        "  print('OPÇÃO INVALIDA. TENTE NOVAMENTE\r\n",
        "  ')\r\n"
      ],
      "execution_count": 35,
      "outputs": [
        {
          "output_type": "stream",
          "text": [
            "============= Lojas Guara ==============\n",
            "Qual o preço das compras R$ 1000\n",
            "FORMAS DE PAGAMENTO\n",
            "[1] à vista em dinheiro\n",
            "[2] à vista no cartão\n",
            "[3] 2x no cartão\n",
            "[4] 3x ou mais no cartão\n",
            "Qual é a opçao: 5\n",
            "OPÇÃO INVALIDA. TENTE NOVAMENTE\n"
          ],
          "name": "stdout"
        }
      ]
    }
  ]
}