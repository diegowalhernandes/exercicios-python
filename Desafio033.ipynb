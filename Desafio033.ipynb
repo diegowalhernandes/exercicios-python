{
  "nbformat": 4,
  "nbformat_minor": 0,
  "metadata": {
    "colab": {
      "name": "Desafio033.ipynb",
      "provenance": [],
      "authorship_tag": "ABX9TyMUGpps34FrCCQmkYbv8uPh",
      "include_colab_link": true
    },
    "kernelspec": {
      "name": "python3",
      "display_name": "Python 3"
    },
    "language_info": {
      "name": "python"
    }
  },
  "cells": [
    {
      "cell_type": "markdown",
      "metadata": {
        "id": "view-in-github",
        "colab_type": "text"
      },
      "source": [
        "<a href=\"https://colab.research.google.com/github/diegowalhernandes/exercicios-python/blob/main/Desafio033.ipynb\" target=\"_parent\"><img src=\"https://colab.research.google.com/assets/colab-badge.svg\" alt=\"Open In Colab\"/></a>"
      ]
    },
    {
      "cell_type": "code",
      "execution_count": 1,
      "metadata": {
        "colab": {
          "base_uri": "https://localhost:8080/"
        },
        "id": "qLNxidXZVe4n",
        "outputId": "85b1082f-5dcc-45b2-895b-d9d2efa94721"
      },
      "outputs": [
        {
          "output_type": "stream",
          "name": "stdout",
          "text": [
            "Primeiro valor: 3\n",
            "Segundo valor: 2\n",
            "Terceiro valor: 6\n",
            "O menor valor digitado foi 2\n",
            "O maior valor digitado foi 6\n"
          ]
        }
      ],
      "source": [
        "'''Desafio033\n",
        "Faça um programa que leia três números e mostre\n",
        "qual é o maior e qual é o menor.'''\n",
        "\n",
        "a = int(input('Primeiro valor: '))\n",
        "b = int(input('Segundo valor: '))\n",
        "c = int(input('Terceiro valor: '))\n",
        "#verificando quem é o menor\n",
        "menor = a \n",
        "if b < a and b < c:\n",
        "\tmenor = b\n",
        "if c < a and c < b:\n",
        "\tmenor = c\n",
        "#verificando quem é o maior\n",
        "maior = a\n",
        "if b > a and b > c:\n",
        "\tmaior = b\n",
        "if c > a and c > b:\n",
        "\tmaior = c\n",
        "print(f'O menor valor digitado foi {menor}')\n",
        "print(f'O maior valor digitado foi {maior}')"
      ]
    }
  ]
}