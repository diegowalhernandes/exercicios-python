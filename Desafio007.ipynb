{
  "nbformat": 4,
  "nbformat_minor": 0,
  "metadata": {
    "colab": {
      "name": "Desafio07.ipynb",
      "provenance": [],
      "collapsed_sections": [],
      "authorship_tag": "ABX9TyOcrWjAxKHjV8onYDbSXp0y",
      "include_colab_link": true
    },
    "kernelspec": {
      "name": "python3",
      "display_name": "Python 3"
    },
    "language_info": {
      "name": "python"
    }
  },
  "cells": [
    {
      "cell_type": "markdown",
      "metadata": {
        "id": "view-in-github",
        "colab_type": "text"
      },
      "source": [
        "<a href=\"https://colab.research.google.com/github/diegowalhernandes/exercicios-python/blob/main/Desafio07.ipynb\" target=\"_parent\"><img src=\"https://colab.research.google.com/assets/colab-badge.svg\" alt=\"Open In Colab\"/></a>"
      ]
    },
    {
      "cell_type": "code",
      "metadata": {
        "colab": {
          "base_uri": "https://localhost:8080/"
        },
        "id": "WALDmgmS8pZf",
        "outputId": "afe9c565-3a02-4766-c587-8d3832dd3925"
      },
      "source": [
        "print('===Desafio 007===')\n",
        "print('''Desenvolva um programa que leia as \n",
        "duas notas de um aluno, calcule e\n",
        "mostre a sua média.''')\n",
        "print('='*20)\n",
        "n1 = float(input(\"Digite a primeira nota: \"))\n",
        "n2 = float(input(\"Digite a segunda nota: \"))\n",
        "media = (n1 + n2) / 2\n",
        "print(f\"Sua média foi {media}\")\n",
        "\n"
      ],
      "execution_count": 19,
      "outputs": [
        {
          "output_type": "stream",
          "name": "stdout",
          "text": [
            "===Desafio 007===\n",
            "Desenvolva um programa que leia as \n",
            "duas notas de um aluno, calcule e\n",
            "mostre a sua média.\n",
            "====================\n",
            "Digite a primeira nota: 6\n",
            "Digite a segunda nota: 10\n",
            "Sua média foi 8.0\n"
          ]
        }
      ]
    }
  ]
}
