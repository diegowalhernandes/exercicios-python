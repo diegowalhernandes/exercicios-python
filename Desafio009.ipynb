{
  "nbformat": 4,
  "nbformat_minor": 0,
  "metadata": {
    "colab": {
      "name": "Desafio09.ipynb",
      "provenance": [],
      "authorship_tag": "ABX9TyPFIUqnirc8qaWSz/vu8XHE",
      "include_colab_link": true
    },
    "kernelspec": {
      "name": "python3",
      "display_name": "Python 3"
    },
    "language_info": {
      "name": "python"
    }
  },
  "cells": [
    {
      "cell_type": "markdown",
      "metadata": {
        "id": "view-in-github",
        "colab_type": "text"
      },
      "source": [
        "<a href=\"https://colab.research.google.com/github/diegowalhernandes/exercicios-python/blob/main/Desafio09.ipynb\" target=\"_parent\"><img src=\"https://colab.research.google.com/assets/colab-badge.svg\" alt=\"Open In Colab\"/></a>"
      ]
    },
    {
      "cell_type": "code",
      "metadata": {
        "colab": {
          "base_uri": "https://localhost:8080/"
        },
        "id": "fkjgvP4nu-as",
        "outputId": "9d9c9885-7f09-4407-ab0a-8d68ad369f9e"
      },
      "source": [
        "print('===Desafio 009===')\n",
        "print('''Crie um programa que leia um número inteiro qulquer na tela\n",
        "e leia a sua tabuada.''')\n",
        "print('='*20)\n",
        "\n",
        "n = int(input(\"Digite um número para ver sua tabuada: \"))\n",
        "print(f' 1 X {n} = {1*n}')\n",
        "print(f' 2 X {n} = {2*n}')\n",
        "print(f' 3 X {n} = {3*n}')\n",
        "print(f' 4 X {n} = {4*n}')\n",
        "print(f' 5 X {n} = {5*n}')\n",
        "print(f' 6 X {n} = {6*n}')\n",
        "print(f' 7 X {n} = {7*n}')\n",
        "print(f' 8 X {n} = {8*n}')\n",
        "print(f' 9 X {n} = {9*n}')\n",
        "print(f'10 X {n} = {10*n}')"
      ],
      "execution_count": null,
      "outputs": [
        {
          "output_type": "stream",
          "name": "stdout",
          "text": [
            "===Desafio 009===\n",
            "Crie um programa que leia um número inteiro qulquer na tela\n",
            "e leia a sua tabuada.\n",
            "====================\n",
            "Digite um número para ver sua tabuada: 5\n",
            " 1 X 5 = 5\n",
            " 2 X 5 = 10\n",
            " 3 X 5 = 15\n",
            " 4 X 5 = 20\n",
            " 5 X 5 = 25\n",
            " 6 X 5 = 30\n",
            " 7 X 5 = 35\n",
            " 8 X 5 = 40\n",
            " 9 X 5 = 45\n",
            "10 X 5 = 50\n"
          ]
        }
      ]
    }
  ]
}
