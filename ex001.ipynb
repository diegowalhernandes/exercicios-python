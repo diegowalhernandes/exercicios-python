{
 "cells": [
  {
   "cell_type": "markdown",
   "metadata": {},
   "source": [
    "### Exercícios com if\n",
    "\n",
    "#### 1. Cálculo de Bônus\n",
    "\n",
    "- Crie um programa que calcule e dê um print no bônus que os funcionários devem receber segundo a regra:\n",
    "\n",
    "A meta é 1000 vendas.<br>\n",
    "Se o valor de vendas for maior ou igual a meta, o valor do bônus do funcionário é 10% do valor de vendas.<br>\n",
    "Caso contrário o valor de bônus do funcionario é 0.<br>\n",
    "Print o bônus dos 3 funcionários"
   ]
  },
  {
   "cell_type": "code",
   "execution_count": 1,
   "metadata": {},
   "outputs": [
    {
     "name": "stdout",
     "output_type": "stream",
     "text": [
      "O funcionario 1 recebeu 100.0 de bônus\n",
      "O funcionario 2 recebeu 0 de bônus\n",
      "O funcionario 3 recebeu 270.0 de bônus\n"
     ]
    }
   ],
   "source": [
    "vendas_funcionario1 = 1000\n",
    "vendas_funcionario2 = 770\n",
    "vendas_funcionario3 = 2700\n",
    "\n",
    "if vendas_funcionario1 >= 1000:\n",
    "    bonus = vendas_funcionario1 * 0.1\n",
    "else:\n",
    "    bonus = 0\n",
    "print(f'O funcionario 1 recebeu {bonus} de bônus')\n",
    "if vendas_funcionario2 >= 1000:\n",
    "    bonus = vendas_funcionario2 * 0.1\n",
    "else:\n",
    "    bonus = 0\n",
    "print(f'O funcionario 2 recebeu {bonus} de bônus')\n",
    "if vendas_funcionario3 >= 1000:\n",
    "    bonus = vendas_funcionario3 * 0.1\n",
    "else:\n",
    "    bonus = 0\n",
    "print(f'O funcionario 3 recebeu {bonus} de bônus')"
   ]
  }
 ],
 "metadata": {
  "kernelspec": {
   "display_name": "Python 3",
   "language": "python",
   "name": "python3"
  },
  "language_info": {
   "codemirror_mode": {
    "name": "ipython",
    "version": 3
   },
   "file_extension": ".py",
   "mimetype": "text/x-python",
   "name": "python",
   "nbconvert_exporter": "python",
   "pygments_lexer": "ipython3",
   "version": "3.12.0"
  }
 },
 "nbformat": 4,
 "nbformat_minor": 2
}
