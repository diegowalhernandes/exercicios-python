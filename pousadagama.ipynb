{
  "nbformat": 4,
  "nbformat_minor": 0,
  "metadata": {
    "colab": {
      "name": "pousadagama.ipynb",
      "provenance": [],
      "authorship_tag": "ABX9TyPytzmnHDIacLpfLg4ng91j",
      "include_colab_link": true
    },
    "kernelspec": {
      "name": "python3",
      "display_name": "Python 3"
    },
    "language_info": {
      "name": "python"
    }
  },
  "cells": [
    {
      "cell_type": "markdown",
      "metadata": {
        "id": "view-in-github",
        "colab_type": "text"
      },
      "source": [
        "<a href=\"https://colab.research.google.com/github/diegowalhernandes/exercicios-python/blob/main/pousadagama.ipynb\" target=\"_parent\"><img src=\"https://colab.research.google.com/assets/colab-badge.svg\" alt=\"Open In Colab\"/></a>"
      ]
    },
    {
      "cell_type": "code",
      "metadata": {
        "colab": {
          "base_uri": "https://localhost:8080/"
        },
        "id": "Z9jHKHF5LixW",
        "outputId": "0e84180d-9c6d-4a69-ee52-df67d44d84c2"
      },
      "source": [
        "op = ' '\n",
        "quarto = [1, 2, 3, 4, 5]\n",
        "print('='*35)\n",
        "print('          Hotelaria GAMA           ')\n",
        "print('='*35)\n",
        "print(\"Os quartos disponiveis são: \")\n",
        "print(quarto)\n",
        "print()\n",
        "print('Escolha uma das opções ou digite sair:')\n",
        "while op != '0':\n",
        "  print('   1 - Reservar Quarto')\n",
        "  print('   2 - Check-in')\n",
        "  print('   3 - Check-out')\n",
        "  print('   0 - Sair do Menu')\n",
        "  op = input('Opção: ')\n",
        "  if op == '1':\n",
        "    print('*** REALIZAR O CADASTRO DO HÓSPEDE E RESERVAR O QUARTO')\n",
        "  elif op == '2':\n",
        "    print('REALIZAR O CHECK-IN')\n",
        "  elif op == '3':\n",
        "    print('REALIZAR O CHECK-OUT')\n",
        "  elif op == '0':\n",
        "    print('OBRIGADO POR USAR A HOTELARIA GAMA')\n",
        "  else:\n",
        "    print('OPÇAO INVÁLIDA, por favor tente de novo.')  # Sair do menu e mostrar mensagem de saida()\n"
      ],
      "execution_count": null,
      "outputs": [
        {
          "output_type": "stream",
          "name": "stdout",
          "text": [
            "===================================\n",
            "          Hotelaria GAMA           \n",
            "===================================\n",
            "Os quartos disponiveis são: \n",
            "[1, 2, 3, 4, 5]\n",
            "\n",
            "Escolha uma das opções ou digite sair:\n",
            "   1 - Reservar Quarto\n",
            "   2 - Check-in\n",
            "   3 - Check-out\n",
            "   0 - Sair do Menu\n",
            "Opção: 2\n",
            "REALIZAR O CHECK-IN\n",
            "   1 - Reservar Quarto\n",
            "   2 - Check-in\n",
            "   3 - Check-out\n",
            "   0 - Sair do Menu\n",
            "Opção: 2\n",
            "REALIZAR O CHECK-IN\n",
            "   1 - Reservar Quarto\n",
            "   2 - Check-in\n",
            "   3 - Check-out\n",
            "   0 - Sair do Menu\n",
            "Opção: 2\n",
            "REALIZAR O CHECK-IN\n",
            "   1 - Reservar Quarto\n",
            "   2 - Check-in\n",
            "   3 - Check-out\n",
            "   0 - Sair do Menu\n"
          ]
        }
      ]
    }
  ]
}