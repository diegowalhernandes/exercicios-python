{
  "nbformat": 4,
  "nbformat_minor": 0,
  "metadata": {
    "colab": {
      "name": "Desafio034.ipynb",
      "provenance": [],
      "authorship_tag": "ABX9TyPZTiVqG2y+HAHH1I9dguuz",
      "include_colab_link": true
    },
    "kernelspec": {
      "name": "python3",
      "display_name": "Python 3"
    },
    "language_info": {
      "name": "python"
    }
  },
  "cells": [
    {
      "cell_type": "markdown",
      "metadata": {
        "id": "view-in-github",
        "colab_type": "text"
      },
      "source": [
        "<a href=\"https://colab.research.google.com/github/diegowalhernandes/exercicios-python/blob/main/Desafio034.ipynb\" target=\"_parent\"><img src=\"https://colab.research.google.com/assets/colab-badge.svg\" alt=\"Open In Colab\"/></a>"
      ]
    },
    {
      "cell_type": "code",
      "execution_count": 7,
      "metadata": {
        "colab": {
          "base_uri": "https://localhost:8080/"
        },
        "id": "VdlXA1yucGf0",
        "outputId": "6587eede-b8b0-4d83-8152-8ee690a32391"
      },
      "outputs": [
        {
          "output_type": "stream",
          "name": "stdout",
          "text": [
            "Qual é o salário do funconário? R$5000\n",
            "Seu novo salário será R$5500.00 \n"
          ]
        }
      ],
      "source": [
        "'''Desafio034\n",
        "Escreva um programa que pergunte o salário de um \n",
        "funcionário e calcule o valor do seu aumento.\n",
        "Para salários superiores a R$1.250,00 calcule um aumento de 10%.\n",
        "para os inferiores ou iguai, o aumento é de 15%'''\n",
        "\n",
        "salario = float(input('Qual é o salário do funconário? R$'))\n",
        "if salario <= 1250:\n",
        "\tnovo = salario + (salario * 15 / 100)\n",
        "else:\n",
        "  novo = salario + (salario * 10 / 100)\n",
        "print(f'Seu novo salário será R${novo:.2f} ')\n"
      ]
    }
  ]
}