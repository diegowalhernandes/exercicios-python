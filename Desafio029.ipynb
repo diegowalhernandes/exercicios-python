{
  "nbformat": 4,
  "nbformat_minor": 0,
  "metadata": {
    "colab": {
      "name": "Desafio029.ipynb",
      "provenance": [],
      "authorship_tag": "ABX9TyOIT77zSYMYyza+NU0B/2/a",
      "include_colab_link": true
    },
    "kernelspec": {
      "name": "python3",
      "display_name": "Python 3"
    },
    "language_info": {
      "name": "python"
    }
  },
  "cells": [
    {
      "cell_type": "markdown",
      "metadata": {
        "id": "view-in-github",
        "colab_type": "text"
      },
      "source": [
        "<a href=\"https://colab.research.google.com/github/diegowalhernandes/exercicios-python/blob/main/Desafio029.ipynb\" target=\"_parent\"><img src=\"https://colab.research.google.com/assets/colab-badge.svg\" alt=\"Open In Colab\"/></a>"
      ]
    },
    {
      "cell_type": "code",
      "execution_count": 12,
      "metadata": {
        "colab": {
          "base_uri": "https://localhost:8080/"
        },
        "id": "llHUrRLt92pg",
        "outputId": "ae47e307-2ec2-4692-d4a9-a4fbb6f3744c"
      },
      "outputs": [
        {
          "output_type": "stream",
          "name": "stdout",
          "text": [
            "-=-=-=-=-=-=-=-=-=-=-=-=-=-=-=\n",
            "-=-=-=-=-=-=Radar-=-=-=-=-=-=\n",
            "-=-=-=-=-=-=-=-=-=-=-=-=-=-=-=\n",
            "Qual a velocidade atual do carro? 90\n",
            "Multado! Você excedeu o limite permitido que é de 80km/h\n",
            "Você deve pagar uma multa de R$70.00!\n",
            "Tenha um bom dia! Dirija com segurança!\n"
          ]
        }
      ],
      "source": [
        "'''Escreva um programa que leia a velocidade de um carro.\n",
        "Se ele ultrapassar 80Km/h, mostre uma mensagem dizendo que ele foi multado.\n",
        "A multa vai custar R$7,00 por cada Km acima do limite.'''\n",
        "print('-='*15)\n",
        "print('-=-=-=-=-=-=Radar-=-=-=-=-=-=')\n",
        "print('-='*15)\n",
        "\n",
        "velocidade = float(input('Qual a velocidade atual do carro? '))\n",
        "if velocidade > 80:\n",
        "  print('Multado! Você excedeu o limite permitido que é de 80km/h')\n",
        "  print(f'Você deve pagar uma multa de R${(velocidade-80)*7:.2f}!')\n",
        "print('Tenha um bom dia! Dirija com segurança!')\n"
      ]
    }
  ]
}