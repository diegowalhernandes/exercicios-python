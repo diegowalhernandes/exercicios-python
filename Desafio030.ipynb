{
  "nbformat": 4,
  "nbformat_minor": 0,
  "metadata": {
    "colab": {
      "name": "Desafio030.ipynb",
      "provenance": [],
      "authorship_tag": "ABX9TyMhpZf4duwI49gPNUA230Ui",
      "include_colab_link": true
    },
    "kernelspec": {
      "name": "python3",
      "display_name": "Python 3"
    },
    "language_info": {
      "name": "python"
    }
  },
  "cells": [
    {
      "cell_type": "markdown",
      "metadata": {
        "id": "view-in-github",
        "colab_type": "text"
      },
      "source": [
        "<a href=\"https://colab.research.google.com/github/diegowalhernandes/exercicios-python/blob/main/Desafio030.ipynb\" target=\"_parent\"><img src=\"https://colab.research.google.com/assets/colab-badge.svg\" alt=\"Open In Colab\"/></a>"
      ]
    },
    {
      "cell_type": "code",
      "execution_count": 10,
      "metadata": {
        "colab": {
          "base_uri": "https://localhost:8080/"
        },
        "id": "-eUZNpgsE98o",
        "outputId": "9486a50e-1248-485b-9fdd-46390b1dac67"
      },
      "outputs": [
        {
          "output_type": "stream",
          "name": "stdout",
          "text": [
            "Digite um valor: 5\n",
            "O número 5 é ÍMPAR\n"
          ]
        }
      ],
      "source": [
        "'''Crie um programa que leia um número inteiro e mostre na tela\n",
        "se ele é PAR ou IMPAR.'''\n",
        "numero = int(input('Digite um valor: '))\n",
        "resultado = numero % 2\n",
        "if resultado == 1:\n",
        "  print(f'O número {numero} é ÍMPAR')\n",
        "else:\n",
        "  print(f'O número {numero} é PAR')\n"
      ]
    }
  ]
}