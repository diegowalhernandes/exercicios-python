{
  "nbformat": 4,
  "nbformat_minor": 0,
  "metadata": {
    "colab": {
      "name": "Desafio02.ipynb",
      "provenance": [],
      "authorship_tag": "ABX9TyOkzjPJ7H+paT8EJT+tZigZ",
      "include_colab_link": true
    },
    "kernelspec": {
      "name": "python3",
      "display_name": "Python 3"
    },
    "language_info": {
      "name": "python"
    }
  },
  "cells": [
    {
      "cell_type": "markdown",
      "metadata": {
        "id": "view-in-github",
        "colab_type": "text"
      },
      "source": [
        "<a href=\"https://colab.research.google.com/github/diegowalhernandes/exercicios-python/blob/main/Desafio02.ipynb\" target=\"_parent\"><img src=\"https://colab.research.google.com/assets/colab-badge.svg\" alt=\"Open In Colab\"/></a>"
      ]
    },
    {
      "cell_type": "code",
      "metadata": {
        "colab": {
          "base_uri": "https://localhost:8080/"
        },
        "id": "WALDmgmS8pZf",
        "outputId": "f67f5504-e081-4aab-83c5-47c8e1669980"
      },
      "source": [
        "print('Desafio 02 Curso em video Professor Gustavo Guanabara')\n",
        "print('=-'*25)\n",
        "print('''Crie um script python que leia o dia, o mês e o ano\n",
        "de nascimento de uma pessoa e mostre uma mensagem com a data formatada.''')\n",
        "print('=-'*25)\n",
        "dia = input('Dia:  ')\n",
        "mes= input('Mes: ')\n",
        "ano= input('Ano: ')\n",
        "\n",
        "print(f'Você nasceu no dia, {dia}, de {mes} de {ano}. Correto?')\n",
        "\n",
        "\n"
      ],
      "execution_count": 15,
      "outputs": [
        {
          "output_type": "stream",
          "name": "stdout",
          "text": [
            "Desafio 02 Curso em video Professor Gustavo Guanabara\n",
            "=-=-=-=-=-=-=-=-=-=-=-=-=-=-=-=-=-=-=-=-=-=-=-=-=-\n",
            "Crie um script python que leia o dia, o mês e o ano\n",
            "de nascimento de uma pessoa e mostre uma mensagem com a data formatada.\n",
            "=-=-=-=-=-=-=-=-=-=-=-=-=-=-=-=-=-=-=-=-=-=-=-=-=-\n",
            "Dia:  01\n",
            "Mes: 01\n",
            "Ano: 2000\n",
            "Você nasceu no dia, 01, de 01 de 2000. Correto?\n"
          ]
        }
      ]
    }
  ]
}