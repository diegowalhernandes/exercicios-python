{
 "cells": [
  {
   "cell_type": "markdown",
   "metadata": {},
   "source": [
    "#### Comparações Contraintuitivas\n",
    "\n",
    "Existem algumas comparações no Python que não sãotão intuitivas quando vemos pela primeira vez, mas que são muito usadas, principalmente por programadores mais experientes.\n",
    "\n",
    "É bom sabermos algunsexemplos e busar sempre entender o que aquela comparação está buscando verificar.\n",
    "\n",
    "#### Exemplo 1:\n",
    "\n",
    "Digamos que vocêestá construindo um sistema de controlede vendas e precisa de algumas informações para fazer o cálculo de resultado da loja no fim de um mês:"
   ]
  },
  {
   "cell_type": "code",
   "execution_count": 9,
   "metadata": {},
   "outputs": [
    {
     "name": "stdout",
     "output_type": "stream",
     "text": [
      "O lucro da loja foi de -1522.0 reais\n"
     ]
    }
   ],
   "source": [
    "faturamento = float(input('Qual foi o faturamento da loja nesse mês? '))\n",
    "custo = float(input('Qual foi o custo da loja nesse mês? '))\n",
    "\n",
    "lucro = faturamento - custo\n",
    "\n",
    "print(f'O lucro da loja foi de {lucro} reais')"
   ]
  },
  {
   "cell_type": "markdown",
   "metadata": {},
   "source": [
    "### Resumo\n",
    "\n",
    "Algumas comparações contraintuitivas muito usadas:\n",
    "\n",
    "if 0:\n",
    "\n",
    "if '':\n",
    "\n",
    "Temos outras também, mas que são usadas para verificar listas vazias, dicionários vazios, objetos vazios e assim vai. Quando chegamos nesses camos relembrar esse conceito."
   ]
  }
 ],
 "metadata": {
  "kernelspec": {
   "display_name": "Python 3",
   "language": "python",
   "name": "python3"
  },
  "language_info": {
   "codemirror_mode": {
    "name": "ipython",
    "version": 3
   },
   "file_extension": ".py",
   "mimetype": "text/x-python",
   "name": "python",
   "nbconvert_exporter": "python",
   "pygments_lexer": "ipython3",
   "version": "3.12.0"
  }
 },
 "nbformat": 4,
 "nbformat_minor": 2
}
