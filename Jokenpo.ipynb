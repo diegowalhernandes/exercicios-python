{
  "nbformat": 4,
  "nbformat_minor": 0,
  "metadata": {
    "colab": {
      "name": "Jokenpo.ipynb",
      "provenance": [],
      "collapsed_sections": [],
      "authorship_tag": "ABX9TyN4QBQphXwD6+ZYJu4uW6w5",
      "include_colab_link": true
    },
    "kernelspec": {
      "name": "python3",
      "display_name": "Python 3"
    }
  },
  "cells": [
    {
      "cell_type": "markdown",
      "metadata": {
        "id": "view-in-github",
        "colab_type": "text"
      },
      "source": [
        "<a href=\"https://colab.research.google.com/github/diegowalhernandes/exercicios-python/blob/main/Jokenpo.ipynb\" target=\"_parent\"><img src=\"https://colab.research.google.com/assets/colab-badge.svg\" alt=\"Open In Colab\"/></a>"
      ]
    },
    {
      "cell_type": "code",
      "metadata": {
        "id": "4fwD3i4uyEll",
        "colab": {
          "base_uri": "https://localhost:8080/"
        },
        "outputId": "52e9de7e-c6ed-4217-e099-157e528772c9"
      },
      "source": [
        "from random import randint\r\n",
        "from time import sleep\r\n",
        "itens = ('\\33[31mPEDRA\\33[', '\\33[32mPAPEL\\33[', '\\33[33mTESOURA\\33[')\r\n",
        "print ('-='*11)\r\n",
        "print (''' OPÇÔES\r\n",
        "\\33[31m[0] Pedra\r\n",
        "\\33[32m[1] Papel\r\n",
        "\\33[33m[2] Tesoura\\33[''')\r\n",
        "computador = randint (0, 2)\r\n",
        "jogador = int (input('Qual é a sua opção? '))\r\n",
        "print('-='*11)\r\n",
        "print('JO')\r\n",
        "sleep(1)\r\n",
        "print('KEN')\r\n",
        "sleep(1)\r\n",
        "print('PO')\r\n",
        "print('jogador escolheu: {}'.format(itens[jogador]))\r\n",
        "print('computador escolheu: {}'.format(itens[computador]))\r\n",
        "if computador == 0:\r\n",
        "  if jogador == 0:\r\n",
        "    print('\\33[33mEMPATOU\\33[')\r\n",
        "  elif jogador == 1:\r\n",
        "    print('\\33[32mGANHOU\\33[')\r\n",
        "  elif jogador == 2:\r\n",
        "    print('\\33[31mPERDEU\\33[')\r\n",
        "  else:\r\n",
        "    print('Opção Invalida')\r\n",
        "elif computador == 1:\r\n",
        "  if jogador == 0:\r\n",
        "    print('\\33[31mPERDEU\\33[')\r\n",
        "  elif jogador == 1:\r\n",
        "    print('\\33[33mEMPATOU\\33[')\r\n",
        "  elif jogador == 2:\r\n",
        "    print('\\33[32mGANHOU\\33[')\r\n",
        "  else:\r\n",
        "    print('Opção Inavalida')\r\n",
        "elif computador == 2:\r\n",
        "  if jogador == 0:\r\n",
        "    print('\\33[32mGANHOU\\33[')\r\n",
        "  elif jogador == 1:\r\n",
        "    print('\\33[31mPERDEU\\33[')\r\n",
        "  elif jogador == 2:\r\n",
        "    print('\\33[33mEMPATOU\\33[')\r\n",
        "  else:\r\n",
        "    print('Opção Invalida')\r\n",
        "    "
      ],
      "execution_count": 3,
      "outputs": [
        {
          "output_type": "stream",
          "text": [
            "-=-=-=-=-=-=-=-=-=-=-=\n",
            " OPÇÔES\n",
            "\u001b[31m[0] Pedra\n",
            "\u001b[32m[1] Papel\n",
            "\u001b[33m[2] Tesoura\u001b[\n",
            "Qual é a sua opção? 2\n",
            "-=-=-=-=-=-=-=-=-=-=-=\n",
            "JO\n",
            "KEN\n",
            "PO\n",
            "jogador escolheu: \u001b[33mTESOURA\u001b[\n",
            "computador escolheu: \u001b[33mTESOURA\u001b[\n",
            "\u001b[33mEMPATOU\u001b[\n"
          ],
          "name": "stdout"
        }
      ]
    }
  ]
}