{
 "cells": [
  {
   "cell_type": "markdown",
   "metadata": {},
   "source": [
    "#### Exercícios \n",
    "\n",
    "### 1. Criando um mini  sistema de controle de estoque\n",
    "\n",
    "- Crie um sistema para ser usado pelo time de controle de estoque de um centor de distribuição.\n",
    "- Imagine que ao fim de todo dia, o time conta quantas unidades de produto existem no estoque. Se tivermos um estoque abaixo do estoque permitido\n",
    "- cada categoria de produto tem um estoque mínimo diferente, segundo a regra abaixo:\n",
    "- alimentos -> Estoque mínino: 50\n",
    "- bebidas -> Estoque mínimo: 75\n",
    "- limpeza -> Estoque mpinimo: 30\n",
    "\n",
    "Para isso vamos criar um programa que pede 3 inputs do usauario: nome do produto, categoria e quantidade atual em estoque.\n",
    "\n",
    "Se o produto tiver abaixo do estoque mínimo da categoria dele, o programa de printar a mensagem \"Solicitar {produto} à equipe de compras, temos apenas {unidades} em estoque\"\n",
    "\n",
    "Ex: Se o usuário preenche os inputs com: bebidas, dolly, 90, o programa não deve exibir nenhuma mensagem.\n",
    "Agora, se o usuário preenche os inputs com: bebidas, guraná, 60, o programa deve exibir a mensagem \"Solicitar guaraná à equipe de compras, temos apenas 60 unidades em estoque\".\n",
    "\n",
    "Obs: Caso o usuárionão preencha alguma das 3 informações, o porgrama deve exibir uma mensagem para avisá-lo de preencher corretamente."
   ]
  },
  {
   "cell_type": "code",
   "execution_count": 6,
   "metadata": {},
   "outputs": [
    {
     "name": "stdout",
     "output_type": "stream",
     "text": [
      "Preencha todas as informações\n"
     ]
    }
   ],
   "source": [
    "produto = input(\"Produto: \")\n",
    "categoria = input(\"Categoria: \")\n",
    "qtde = input(\"Quantidade: \")\n",
    "\n",
    "if produto and categoria and qtde:\n",
    "    qtde = int(qtde)\n",
    "    if categoria == 'bebidas':\n",
    "        if qtde < 75:\n",
    "            print(f'Solicitar {produto}, à equipe de compras, temos apenas {qtde} em estoque')\n",
    "    elif categoria == 'alimentos':\n",
    "        if qtde < 50:\n",
    "            print(f'Solicitar {produto}, à equipe de compras, temos apenas {qtde} em estoque')\n",
    "    elif categoria == 'limpeza':\n",
    "        if qtde < 30:\n",
    "            print(f'Solicitar {produto}, à equipe de compras, temos apenas {qtde} em estoque')\n",
    "else:\n",
    "    print(\"Preencha todas as informações\")\n"
   ]
  }
 ],
 "metadata": {
  "kernelspec": {
   "display_name": "Python 3",
   "language": "python",
   "name": "python3"
  },
  "language_info": {
   "codemirror_mode": {
    "name": "ipython",
    "version": 3
   },
   "file_extension": ".py",
   "mimetype": "text/x-python",
   "name": "python",
   "nbconvert_exporter": "python",
   "pygments_lexer": "ipython3",
   "version": "3.12.0"
  }
 },
 "nbformat": 4,
 "nbformat_minor": 2
}
