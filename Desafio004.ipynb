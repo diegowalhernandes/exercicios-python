{
  "cells": [
    {
      "cell_type": "markdown",
      "metadata": {
        "colab_type": "text",
        "id": "view-in-github"
      },
      "source": [
        "<a href=\"https://colab.research.google.com/github/diegowalhernandes/exercicios-python/blob/main/Desafio04.ipynb\" target=\"_parent\"><img src=\"https://colab.research.google.com/assets/colab-badge.svg\" alt=\"Open In Colab\"/></a>"
      ]
    },
    {
      "cell_type": "markdown",
      "metadata": {},
      "source": [
        "### Desafio 04\n",
        "Faça um programa que leia algo pelo teclado\n",
        "e mostre na tela o seu tipo primitivo e todas\n",
        "as informações possiveis sobre ele."
      ]
    },
    {
      "cell_type": "code",
      "execution_count": null,
      "metadata": {
        "colab": {
          "base_uri": "https://localhost:8080/"
        },
        "id": "WALDmgmS8pZf",
        "outputId": "6a45c83a-20c5-46ad-c6ee-15c91ed396e0"
      },
      "outputs": [],
      "source": [
        "n = input('Digite algo: ')\n",
        "print(type(n))\n",
        "alphanumeric = (n.isalnum())\n",
        "alphabet = (n.isalpha())\n",
        "ascii = (n.isascii())\n",
        "decimal = (n.isdecimal())\n",
        "digit = (n.isdigit())\n",
        "identifier = (n.isidentifier())\n",
        "slower = (n.islower())\n",
        "numeric = (n.isnumeric())\n",
        "printable = (n.isprintable())\n",
        "space = (n.isspace())\n",
        "title = (n.istitle())\n",
        "upper = (n.isupper())\n",
        "\n",
        "print(f'o texto digitado é alfanumerio? {alphanumeric}')\n",
        "print(f'o texto digitado é alfabetico? {alphabet}')\n",
        "print(f'o texto digitado é ascii? {ascii}')\n",
        "print(f'o texto digitado é decimal? {decimal}')\n",
        "print(f'o texto digitado é digit? {digit}')\n",
        "print(f'o texto digitado é identifier? {identifier}')\n",
        "print(f'o texto digitado é slower? {slower}')\n",
        "print(f'o texto digitado é numeric? {numeric}')\n",
        "print(f'o texto digitado é printable? {printable}')\n",
        "print(f'o texto digitado é space? {space}')\n",
        "print(f'o texto digitado é title? {title}')\n",
        "print(f'o texto digitado é upper? {upper}')\n",
        "\n"
      ]
    }
  ],
  "metadata": {
    "colab": {
      "authorship_tag": "ABX9TyMLoTDtuQpZe9G/6TY9D/1a",
      "include_colab_link": true,
      "name": "Desafio02.ipynb",
      "provenance": []
    },
    "kernelspec": {
      "display_name": "Python 3",
      "name": "python3"
    },
    "language_info": {
      "codemirror_mode": {
        "name": "ipython",
        "version": 3
      },
      "file_extension": ".py",
      "mimetype": "text/x-python",
      "name": "python",
      "nbconvert_exporter": "python",
      "pygments_lexer": "ipython3",
      "version": "3.12.0"
    }
  },
  "nbformat": 4,
  "nbformat_minor": 0
}
