{
  "nbformat": 4,
  "nbformat_minor": 0,
  "metadata": {
    "colab": {
      "name": "Desafio 010.ipynb",
      "provenance": [],
      "authorship_tag": "ABX9TyOnoeJrM9UCs/7MWs+D2W+a",
      "include_colab_link": true
    },
    "kernelspec": {
      "name": "python3",
      "display_name": "Python 3"
    },
    "language_info": {
      "name": "python"
    }
  },
  "cells": [
    {
      "cell_type": "markdown",
      "metadata": {
        "id": "view-in-github",
        "colab_type": "text"
      },
      "source": [
        "<a href=\"https://colab.research.google.com/github/diegowalhernandes/exercicios-python/blob/main/Desafio010.ipynb\" target=\"_parent\"><img src=\"https://colab.research.google.com/assets/colab-badge.svg\" alt=\"Open In Colab\"/></a>"
      ]
    },
    {
      "cell_type": "code",
      "metadata": {
        "colab": {
          "base_uri": "https://localhost:8080/"
        },
        "id": "BY5JFTj-0DuS",
        "outputId": "93fbb591-a7e5-436e-ecf8-776846f2472d"
      },
      "source": [
        "print('''=-=-=-Desafio 10-=-=-=\n",
        "Crie um programa que leia quanto \n",
        "dinheiro uma pessoa tem na \n",
        "carteira e mostre quantos \n",
        "Dólares ela pode comprar.\n",
        "considere US$1,00 = R$5,57''')\n",
        "print('=-='*15)\n",
        "real = float(input('Quanto dinheiro você tem na carteira? R$ '))\n",
        "print(f'Com R${real:.2f}, você pode comprar U${real / 5.57:.2f} dolares')\n"
      ],
      "execution_count": 8,
      "outputs": [
        {
          "output_type": "stream",
          "name": "stdout",
          "text": [
            "=-=-=-Desafio 10-=-=-=\n",
            "Crie um programa que leia quanto \n",
            "dinheiro uma pessoa tem na \n",
            "carteira e mostre quantos \n",
            "Dólares ela pode comprar.\n",
            "considere US$1,00 = R$5,57\n",
            "=-==-==-==-==-==-==-==-==-==-==-==-==-==-==-=\n",
            "Quanto dinheiro você tem na carteira? R$ 10\n",
            "Com R$10.00, você pode comprar U$1.80 dolares\n"
          ]
        }
      ]
    }
  ]
}