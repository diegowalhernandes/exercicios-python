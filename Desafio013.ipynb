{
  "nbformat": 4,
  "nbformat_minor": 0,
  "metadata": {
    "colab": {
      "name": "Desafio013.ipynb",
      "provenance": [],
      "authorship_tag": "ABX9TyOqEpwy9SuCBYZLQqb98sA4",
      "include_colab_link": true
    },
    "kernelspec": {
      "name": "python3",
      "display_name": "Python 3"
    },
    "language_info": {
      "name": "python"
    }
  },
  "cells": [
    {
      "cell_type": "markdown",
      "metadata": {
        "id": "view-in-github",
        "colab_type": "text"
      },
      "source": [
        "<a href=\"https://colab.research.google.com/github/diegowalhernandes/exercicios-python/blob/main/Desafio013.ipynb\" target=\"_parent\"><img src=\"https://colab.research.google.com/assets/colab-badge.svg\" alt=\"Open In Colab\"/></a>"
      ]
    },
    {
      "cell_type": "code",
      "metadata": {
        "colab": {
          "base_uri": "https://localhost:8080/"
        },
        "id": "n1AQhNweBski",
        "outputId": "a60750a7-cdbc-4c4a-dcf8-b21e8311b43c"
      },
      "source": [
        "print('''===Desafio 013===\n",
        "Faça um algoritmo que leia o salário de \n",
        "um funcionário e mostre seu novo salário,\n",
        "com 15% de aumento''')\n",
        "print('=-'*15)\n",
        "\n",
        "salario = float(input('Qual o salário do funcionario? R$'))\n",
        "aumento = salario + (salario*15/100)\n",
        "print(f'Um funcionario que ganhava R${salario:.2f}, com 15% de aumento passa a ganhar R${aumento:.2f}')\n",
        "\n"
      ],
      "execution_count": 6,
      "outputs": [
        {
          "output_type": "stream",
          "name": "stdout",
          "text": [
            "===Desafio 013===\n",
            "Faça um algoritmo que leia o salário de \n",
            "um funcionário e mostre seu novo salário,\n",
            "com 15% de aumento\n",
            "=-=-=-=-=-=-=-=-=-=-=-=-=-=-=-\n",
            "Qual o salário do funcionario? R$2000\n",
            "Um funcionario que ganhava R$2000.00, com 15% de aumento passa a ganhar R$2300.00\n"
          ]
        }
      ]
    }
  ]
}
