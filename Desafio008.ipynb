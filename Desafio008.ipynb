{
  "nbformat": 4,
  "nbformat_minor": 0,
  "metadata": {
    "colab": {
      "name": "Desafio08.ipynb",
      "provenance": [],
      "collapsed_sections": [],
      "authorship_tag": "ABX9TyPd7VUgvOdfiivn/ycSNm5m",
      "include_colab_link": true
    },
    "kernelspec": {
      "name": "python3",
      "display_name": "Python 3"
    },
    "language_info": {
      "name": "python"
    }
  },
  "cells": [
    {
      "cell_type": "markdown",
      "metadata": {
        "id": "view-in-github",
        "colab_type": "text"
      },
      "source": [
        "<a href=\"https://colab.research.google.com/github/diegowalhernandes/exercicios-python/blob/main/Desafio08.ipynb\" target=\"_parent\"><img src=\"https://colab.research.google.com/assets/colab-badge.svg\" alt=\"Open In Colab\"/></a>"
      ]
    },
    {
      "cell_type": "code",
      "metadata": {
        "colab": {
          "base_uri": "https://localhost:8080/"
        },
        "id": "WALDmgmS8pZf",
        "outputId": "5bd3f705-0339-4f5c-a6a7-6f5edcf8e6c7"
      },
      "source": [
        "print('===Desafio 008===')\n",
        "print('''Escreva um programa que leia\n",
        "um valor em metros e o exiba \n",
        "convertido em centimetros, milímetros e quilómetros.''')\n",
        "print('='*20)\n",
        "\n",
        "metros = float(input('Quantos metros deseja converter? '))\n",
        "print(f'{metros}m convertido para centimetros fica {metros * 100:.0f}cm')\n",
        "print(f'{metros}m convertido para milimetros fica {metros * 1000:.0f}mm')\n",
        "print(f'{metros}m convertido para quilometros fica {metros / 1000}')\n",
        "\n"
      ],
      "execution_count": 32,
      "outputs": [
        {
          "output_type": "stream",
          "name": "stdout",
          "text": [
            "===Desafio 008===\n",
            "Escreva um programa que leia\n",
            "um valor em metros e o exiba \n",
            "convertido em centimetros, milímetros e quilómetros.\n",
            "====================\n",
            "Quantos metros deseja converter? 5\n",
            "5.0m convertido para centimetros fica 500cm\n",
            "5.0m convertido para milimetros fica 5000mm\n",
            "5.0m convertido para quilometros fica 0.005\n"
          ]
        }
      ]
    }
  ]
}
