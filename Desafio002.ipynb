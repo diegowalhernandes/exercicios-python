{
  "cells": [
    {
      "cell_type": "markdown",
      "metadata": {
        "colab_type": "text",
        "id": "view-in-github"
      },
      "source": [
        "<a href=\"https://colab.research.google.com/github/diegowalhernandes/exercicios-python/blob/main/Desafio02.ipynb\" target=\"_parent\"><img src=\"https://colab.research.google.com/assets/colab-badge.svg\" alt=\"Open In Colab\"/></a>"
      ]
    },
    {
      "cell_type": "markdown",
      "metadata": {},
      "source": [
        "### Desafio 002\n",
        "Crie um script python que leia o dia, o mês e o ano\n",
        "de nascimento de uma pessoa e mostre uma mensagem com a data formatada."
      ]
    },
    {
      "cell_type": "code",
      "execution_count": null,
      "metadata": {
        "colab": {
          "base_uri": "https://localhost:8080/"
        },
        "id": "WALDmgmS8pZf",
        "outputId": "f67f5504-e081-4aab-83c5-47c8e1669980"
      },
      "outputs": [],
      "source": [
        "\n",
        "dia = input('Dia:  ')\n",
        "mes= input('Mes: ')\n",
        "ano= input('Ano: ')\n",
        "\n",
        "print(f'Você nasceu no dia, {dia}, de {mes} de {ano}. Correto?')\n",
        "\n",
        "\n"
      ]
    }
  ],
  "metadata": {
    "colab": {
      "authorship_tag": "ABX9TyOkzjPJ7H+paT8EJT+tZigZ",
      "include_colab_link": true,
      "name": "Desafio02.ipynb",
      "provenance": []
    },
    "kernelspec": {
      "display_name": "Python 3",
      "name": "python3"
    },
    "language_info": {
      "codemirror_mode": {
        "name": "ipython",
        "version": 3
      },
      "file_extension": ".py",
      "mimetype": "text/x-python",
      "name": "python",
      "nbconvert_exporter": "python",
      "pygments_lexer": "ipython3",
      "version": "3.12.0"
    }
  },
  "nbformat": 4,
  "nbformat_minor": 0
}
