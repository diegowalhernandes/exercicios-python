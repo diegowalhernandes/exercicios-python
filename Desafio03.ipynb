{
  "nbformat": 4,
  "nbformat_minor": 0,
  "metadata": {
    "colab": {
      "name": "Desafio02.ipynb",
      "provenance": [],
      "authorship_tag": "ABX9TyOIlgZynW7nKcRuV8J2bO9e",
      "include_colab_link": true
    },
    "kernelspec": {
      "name": "python3",
      "display_name": "Python 3"
    },
    "language_info": {
      "name": "python"
    }
  },
  "cells": [
    {
      "cell_type": "markdown",
      "metadata": {
        "id": "view-in-github",
        "colab_type": "text"
      },
      "source": [
        "<a href=\"https://colab.research.google.com/github/diegowalhernandes/exercicios-python/blob/main/Desafio03.ipynb\" target=\"_parent\"><img src=\"https://colab.research.google.com/assets/colab-badge.svg\" alt=\"Open In Colab\"/></a>"
      ]
    },
    {
      "cell_type": "code",
      "metadata": {
        "colab": {
          "base_uri": "https://localhost:8080/"
        },
        "id": "WALDmgmS8pZf",
        "outputId": "8366d9f3-4a69-452b-d242-7ca3acd7c5ac"
      },
      "source": [
        "print('Desafio 03 Curso em video Professor Gustavo Guanabara')\n",
        "print('=-'*25)\n",
        "print('Crie um script python que leia dois números e mostre a soma entre eles.')\n",
        "print('=-'*25)\n",
        "n1 = int(input('Primeiro número: '))\n",
        "n2 = int(input('Segundo número: '))\n",
        "soma = n1 + n2\n",
        "print(f'A soma entre, {n1} + {n2} é {soma}')\n"
      ],
      "execution_count": 21,
      "outputs": [
        {
          "output_type": "stream",
          "name": "stdout",
          "text": [
            "Desafio 03 Curso em video Professor Gustavo Guanabara\n",
            "=-=-=-=-=-=-=-=-=-=-=-=-=-=-=-=-=-=-=-=-=-=-=-=-=-\n",
            "Crie um script python que leia dois números e mostre a soma entre eles.\n",
            "=-=-=-=-=-=-=-=-=-=-=-=-=-=-=-=-=-=-=-=-=-=-=-=-=-\n",
            "Primeiro número: 3\n",
            "Segundo número: 2\n",
            "A soma entre, 3 + 2 é 5\n"
          ]
        }
      ]
    }
  ]
}